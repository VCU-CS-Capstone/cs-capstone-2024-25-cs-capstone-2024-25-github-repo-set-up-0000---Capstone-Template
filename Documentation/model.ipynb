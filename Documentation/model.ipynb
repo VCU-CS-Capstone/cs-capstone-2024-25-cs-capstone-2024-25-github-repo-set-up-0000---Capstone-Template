{
 "cells": [
  {
   "cell_type": "code",
   "execution_count": 64,
   "metadata": {},
   "outputs": [
    {
     "name": "stdout",
     "output_type": "stream",
     "text": [
      "System Version: 3.12.5 | packaged by Anaconda, Inc. | (main, Sep 12 2024, 13:22:57) [Clang 14.0.6 ]\n",
      "PyTorch version 2.4.1\n",
      "Torchvision version 0.19.1\n",
      "Numpy version 1.26.4\n"
     ]
    }
   ],
   "source": [
    "import torch\n",
    "import torch.nn as nn #related to neural networks\n",
    "import torch.optim as optim #optimizer\n",
    "from torch.utils.data import Dataset, DataLoader\n",
    "import torchvision\n",
    "import torchvision.transforms as transforms\n",
    "import matplotlib.pyplot as plt\n",
    "from torchvision.datasets import ImageFolder\n",
    "from torch.optim.lr_scheduler import StepLR\n",
    "import timm\n",
    "import numpy as np\n",
    "import sys\n",
    "import tqdm\n",
    "\n",
    "print('System Version:', sys.version)\n",
    "print('PyTorch version', torch.__version__)\n",
    "print('Torchvision version', torchvision.__version__)\n",
    "print('Numpy version', np.__version__)\n",
    "\n"
   ]
  },
  {
   "cell_type": "code",
   "execution_count": 65,
   "metadata": {},
   "outputs": [],
   "source": [
    "class CircuitDiagramDataset(Dataset):\n",
    "    def __init__(self, data_dir, transform=None):\n",
    "        self.data = ImageFolder(data_dir, transform=transform)\n",
    "    \n",
    "    def __len__(self):\n",
    "        return len(self.data)\n",
    "    \n",
    "    def __getitem__(self, idx):\n",
    "        return self.data[idx]\n",
    "    \n",
    "    @property\n",
    "    def classes(self):\n",
    "        return self.data.classes\n",
    "\n",
    "# Use data augmentation to apply random transformation to diagrams to create variations\n",
    "transform = transforms.Compose([\n",
    "    transforms.Resize((128,128)),\n",
    "    transforms.ToTensor(),\n",
    "    transforms.RandomHorizontalFlip(),\n",
    "    transforms.RandomRotation(15),\n",
    "    transforms.ColorJitter(brightness=0.1, contrast=0.1, saturation=0.1, hue=0.1),\n",
    "     ])\n",
    "\n",
    "dataset = CircuitDiagramDataset(\n",
    "    data_dir='components/train', transform=transform #reads the diagram from this folder\n",
    ")\n",
    "image, label = dataset[100]\n",
    "image.shape\n",
    "\n",
    "# plt.imshow(image.permute(1, 2, 0).numpy())\n",
    "# plt.title(f\"Label: {dataset.classes[label]}\")\n",
    "# plt.show()\n",
    "\n",
    "dataloader = DataLoader(dataset, batch_size=2, shuffle=True)\n",
    "\n",
    "for images, labels in dataloader:  \n",
    "    break\n"
   ]
  },
  {
   "cell_type": "code",
   "execution_count": 66,
   "metadata": {},
   "outputs": [],
   "source": [
    "class CircuitDiagramClassifier(nn.Module):\n",
    "    def __init__(self, num_classes=41):\n",
    "        super(CircuitDiagramClassifier, self).__init__() # Calls constructor of parent class nn.Module\n",
    "        # Where we define all the parts of the model\n",
    "        self.base_model = timm.create_model('efficientnet_b0', pretrained=True)  # Creates a pretrained model\n",
    "        self.features = nn.Sequential(*list(self.base_model.children())[:-1])\n",
    "\n",
    "        enet_out_size = 1280\n",
    "        # Make a classifier\n",
    "        self.classifier = nn.Sequential(\n",
    "            nn.Flatten(), # Flattens input tensor to 1D tensor\n",
    "            nn.Linear(enet_out_size, num_classes)\n",
    "        )\n",
    "    \n",
    "    def forward(self, x):\n",
    "        # Connect these parts and return the output\n",
    "        x = self.features(x)\n",
    "        output = self.classifier(x)\n",
    "        return output\n"
   ]
  },
  {
   "cell_type": "code",
   "execution_count": 67,
   "metadata": {},
   "outputs": [
    {
     "name": "stderr",
     "output_type": "stream",
     "text": [
      "Training loop: 100%|██████████| 82/82 [00:08<00:00,  9.68it/s]\n",
      "Validation loop: 100%|██████████| 82/82 [00:02<00:00, 29.72it/s]\n"
     ]
    },
    {
     "name": "stdout",
     "output_type": "stream",
     "text": [
      "Epoch 1/10 - Train loss: 3.932949580797335, Validation loss: 3.875404253238585, Accuracy: 0.036585365853658534\n"
     ]
    },
    {
     "name": "stderr",
     "output_type": "stream",
     "text": [
      "Training loop: 100%|██████████| 82/82 [00:08<00:00,  9.74it/s]\n",
      "Validation loop: 100%|██████████| 82/82 [00:02<00:00, 29.58it/s]\n"
     ]
    },
    {
     "name": "stdout",
     "output_type": "stream",
     "text": [
      "Epoch 2/10 - Train loss: 3.866441267292674, Validation loss: 3.8592957170998177, Accuracy: 0.054878048780487805\n"
     ]
    },
    {
     "name": "stderr",
     "output_type": "stream",
     "text": [
      "Training loop: 100%|██████████| 82/82 [00:08<00:00,  9.86it/s]\n",
      "Validation loop: 100%|██████████| 82/82 [00:02<00:00, 29.15it/s]\n"
     ]
    },
    {
     "name": "stdout",
     "output_type": "stream",
     "text": [
      "Epoch 3/10 - Train loss: 3.830524965030391, Validation loss: 3.7551470297138865, Accuracy: 0.06097560975609756\n"
     ]
    },
    {
     "name": "stderr",
     "output_type": "stream",
     "text": [
      "Training loop: 100%|██████████| 82/82 [00:08<00:00,  9.84it/s]\n",
      "Validation loop: 100%|██████████| 82/82 [00:02<00:00, 28.81it/s]\n"
     ]
    },
    {
     "name": "stdout",
     "output_type": "stream",
     "text": [
      "Epoch 4/10 - Train loss: 3.7369479580623346, Validation loss: 3.564966123278548, Accuracy: 0.04878048780487805\n"
     ]
    },
    {
     "name": "stderr",
     "output_type": "stream",
     "text": [
      "Training loop: 100%|██████████| 82/82 [00:08<00:00,  9.86it/s]\n",
      "Validation loop: 100%|██████████| 82/82 [00:02<00:00, 29.42it/s]\n"
     ]
    },
    {
     "name": "stdout",
     "output_type": "stream",
     "text": [
      "Epoch 5/10 - Train loss: 3.5636192560195923, Validation loss: 2.97477767816404, Accuracy: 0.12195121951219512\n"
     ]
    },
    {
     "name": "stderr",
     "output_type": "stream",
     "text": [
      "Training loop: 100%|██████████| 82/82 [00:08<00:00,  9.89it/s]\n",
      "Validation loop: 100%|██████████| 82/82 [00:02<00:00, 29.04it/s]\n"
     ]
    },
    {
     "name": "stdout",
     "output_type": "stream",
     "text": [
      "Epoch 6/10 - Train loss: 3.296255268701693, Validation loss: 2.737026250943905, Accuracy: 0.14634146341463414\n"
     ]
    },
    {
     "name": "stderr",
     "output_type": "stream",
     "text": [
      "Training loop: 100%|██████████| 82/82 [00:08<00:00,  9.90it/s]\n",
      "Validation loop: 100%|██████████| 82/82 [00:02<00:00, 29.02it/s]\n"
     ]
    },
    {
     "name": "stdout",
     "output_type": "stream",
     "text": [
      "Epoch 7/10 - Train loss: 3.239217412181017, Validation loss: 2.7186740167984147, Accuracy: 0.20121951219512196\n"
     ]
    },
    {
     "name": "stderr",
     "output_type": "stream",
     "text": [
      "Training loop: 100%|██████████| 82/82 [00:08<00:00,  9.92it/s]\n",
      "Validation loop: 100%|██████████| 82/82 [00:02<00:00, 29.06it/s]\n"
     ]
    },
    {
     "name": "stdout",
     "output_type": "stream",
     "text": [
      "Epoch 8/10 - Train loss: 2.9490205601948065, Validation loss: 2.527520940071199, Accuracy: 0.23170731707317074\n"
     ]
    },
    {
     "name": "stderr",
     "output_type": "stream",
     "text": [
      "Training loop: 100%|██████████| 82/82 [00:08<00:00,  9.92it/s]\n",
      "Validation loop: 100%|██████████| 82/82 [00:02<00:00, 29.09it/s]\n"
     ]
    },
    {
     "name": "stdout",
     "output_type": "stream",
     "text": [
      "Epoch 9/10 - Train loss: 2.9225278758421176, Validation loss: 2.372347104113276, Accuracy: 0.25\n"
     ]
    },
    {
     "name": "stderr",
     "output_type": "stream",
     "text": [
      "Training loop: 100%|██████████| 82/82 [00:08<00:00,  9.90it/s]\n",
      "Validation loop: 100%|██████████| 82/82 [00:02<00:00, 29.25it/s]"
     ]
    },
    {
     "name": "stdout",
     "output_type": "stream",
     "text": [
      "Epoch 10/10 - Train loss: 2.792031320129953, Validation loss: 2.3580865351165214, Accuracy: 0.18292682926829268\n"
     ]
    },
    {
     "name": "stderr",
     "output_type": "stream",
     "text": [
      "\n"
     ]
    },
    {
     "data": {
      "image/png": "[encoded data removed]",
      "text/plain": [
       "<Figure size 640x480 with 1 Axes>"
      ]
     },
     "metadata": {},
     "output_type": "display_data"
    }
   ],
   "source": [
    "model = CircuitDiagramClassifier()\n",
    "\n",
    "example_out = model(images)\n",
    "example_out.shape # Check output shape [batch_size, num_classes]\n",
    "\n",
    "criterion = nn.CrossEntropyLoss()  # Defines the loss function\n",
    "# Optimizer\n",
    "optimizer = optim.Adam(model.parameters(), lr=0.001)\n",
    "\n",
    "criterion(example_out, labels)\n",
    "\n",
    "train_folder = 'components/train'\n",
    "valid_folder = 'components/valid'\n",
    "test_folder = 'components/test'\n",
    "\n",
    "train_dataset = CircuitDiagramDataset(train_folder, transform=transform)\n",
    "val_dataset = CircuitDiagramDataset(valid_folder, transform=transform)\n",
    "test_dataset = CircuitDiagramDataset(test_folder, transform=transform)\n",
    "\n",
    "train_loader = DataLoader(train_dataset, batch_size=2, shuffle=True)\n",
    "val_loader = DataLoader(val_dataset, batch_size=2, shuffle=False)\n",
    "test_loader = DataLoader(val_dataset, batch_size=2, shuffle=False)\n",
    "\n",
    "num_epochs = 10\n",
    "train_losses, val_losses = [], []\n",
    "\n",
    "device = torch.device(\"mps\" if torch.backends.mps.is_available() else \"cpu\")\n",
    "\n",
    "model = CircuitDiagramClassifier()\n",
    "model.to(device)\n",
    "\n",
    "criterion = nn.CrossEntropyLoss()\n",
    "optimizer = optim.Adam(model.parameters(), lr=0.001)\n",
    "scheduler = StepLR(optimizer, step_size=5, gamma=0.5)  # Adjusts learning rate during training dynamically\n",
    "\n",
    "for epoch in range(num_epochs):\n",
    "    # Training phase\n",
    "    model.train()\n",
    "    running_loss = 0.0\n",
    "    for images, labels in tqdm.tqdm(train_loader, desc='Training loop'):\n",
    "        # Move inputs and labels to the device\n",
    "        images, labels = images.to(device), labels.to(device)\n",
    "        \n",
    "        optimizer.zero_grad()\n",
    "        outputs = model(images)\n",
    "        loss = criterion(outputs, labels)\n",
    "        loss.backward()\n",
    "        optimizer.step()\n",
    "        running_loss += loss.item() * labels.size(0)\n",
    "    train_loss = running_loss / len(train_loader.dataset)\n",
    "    train_losses.append(train_loss)\n",
    "    \n",
    "    # Validation phase\n",
    "    model.eval()\n",
    "    running_loss = 0.0\n",
    "    correct = 0  # Initialize correct predictions count\n",
    "    total = 0    # Initialize total predictions count\n",
    "    with torch.no_grad():\n",
    "        for images, labels in tqdm.tqdm(val_loader, desc='Validation loop'):\n",
    "            # Move inputs and labels to the device\n",
    "            images, labels = images.to(device), labels.to(device)\n",
    "         \n",
    "            outputs = model(images)\n",
    "            loss = criterion(outputs, labels)\n",
    "            running_loss += loss.item() * labels.size(0)\n",
    "            _, preds = torch.max(outputs, 1)  # Get the predicted class\n",
    "            correct += (preds == labels).sum().item()  # Count correct predictions\n",
    "            total += labels.size(0)  # Count total predictions\n",
    "    val_loss = running_loss / len(val_loader.dataset)  # Calculate average loss\n",
    "    val_losses.append(val_loss)\n",
    "\n",
    "    # Calculate overall accuracy for the validation set\n",
    "    accuracy = correct / total if total > 0 else 0\n",
    "    print(f\"Epoch {epoch+1}/{num_epochs} - Train loss: {train_loss}, Validation loss: {val_loss}, Accuracy: {accuracy}\")\n",
    "    scheduler.step()\n",
    "    \n",
    "plt.plot(train_losses, label='Training Loss')\n",
    "plt.plot(val_losses, label='Validation Loss')\n",
    "plt.xlabel('Epochs')\n",
    "plt.ylabel('Loss')\n",
    "plt.title('Training and Validation Loss')\n",
    "plt.legend()\n",
    "plt.show()\n"
   ]
  }
 ],
 "metadata": {
  "kernelspec": {
   "display_name": "torch",
   "language": "python",
   "name": "python3"
  },
  "language_info": {
   "codemirror_mode": {
    "name": "ipython",
    "version": 3
   },
   "file_extension": ".py",
   "mimetype": "text/x-python",
   "name": "python",
   "nbconvert_exporter": "python",
   "pygments_lexer": "ipython3",
   "version": "3.12.5"
  }
 },
 "nbformat": 4,
 "nbformat_minor": 2
}
